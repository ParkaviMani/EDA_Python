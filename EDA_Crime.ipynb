{
 "cells": [
  {
   "cell_type": "code",
   "execution_count": null,
   "metadata": {},
   "outputs": [],
   "source": [
    "Submission By: \n",
    "    Name: Kalaiarasi Sargunaraj \n",
    "    Student Number: 17200399\n",
    "        \n",
    "    Name: Parkavi Kolandavel Mani\n",
    "    Student Number: 18200072\n",
    "        "
   ]
  },
  {
   "cell_type": "code",
   "execution_count": 2,
   "metadata": {},
   "outputs": [],
   "source": [
    "import urllib.request\n",
    "import pandas as pd\n",
    "import csv\n",
    "import matplotlib\n",
    "import matplotlib.pyplot as plt\n",
    "%matplotlib inline\n",
    "pd.options.mode.chained_assignment=None"
   ]
  },
  {
   "cell_type": "markdown",
   "metadata": {},
   "source": [
    "The APIs that was chosen for this assignment expose Police Department Incident Reports of San Francisco government. The data is hosted by https://data.sfgov.org.\n",
    "API for Incidents from 2018 – Present: https://data.sfgov.org/resource/nwbb-fxkq.csv \n",
    "API for Incidents in 2018: https://data.sfgov.org/resource/cuks-n6tp.csv \n",
    "These APIs provide CSV data."
   ]
  },
  {
   "cell_type": "code",
   "execution_count": 3,
   "metadata": {},
   "outputs": [],
   "source": [
    "#This method calls the url passed as an argument and returns a response\n",
    "#A failure message is returned if the call was unsuccessful \n",
    "def callAPI(url):\n",
    "    try:\n",
    "        response = pd.read_csv(url)\n",
    "        return response\n",
    "    except:\n",
    "        return \"Failed to retrieve %s\" % url\n",
    "    "
   ]
  },
  {
   "cell_type": "code",
   "execution_count": 4,
   "metadata": {},
   "outputs": [],
   "source": [
    "#Function to save a file in a specific location\n",
    "def save_file(file, location):\n",
    "    file.to_csv(location)"
   ]
  },
  {
   "cell_type": "code",
   "execution_count": 5,
   "metadata": {},
   "outputs": [],
   "source": [
    "#url to fetch the Police Incident call details from 2018\n",
    "incident_2018_url = \"https://data.sfgov.org/resource/cuks-n6tp.csv\"\n",
    "#url to fetch the Police Incident call details from 2018 to 2019\n",
    "incident_2019_url = \"https://data.sfgov.org/resource/nwbb-fxkq.csv\"\n",
    "#calling the API to fetch data\n",
    "incident_2018_response = callAPI(incident_2018_url)\n",
    "incident_2019_response = callAPI(incident_2019_url)\n",
    "#Selecting only the features required to analyse the datasets and storing them in a dataframe\n",
    "incidents_18_df = incident_2018_response[[\"category\",\"dayofweek\",\"resolution\",\"date\"]]\n",
    "incidents_19_df = incident_2019_response[[\"incident_category\",\"incident_day_of_week\",\"resolution\",\"incident_date\"]]\n",
    "#saving the datasets locally in CSV format\n",
    "save_file(incidents_18_df, \"incidents_18.csv\")\n",
    "save_file(incidents_19_df, \"incidents_19.csv\")"
   ]
  },
  {
   "cell_type": "markdown",
   "metadata": {},
   "source": [
    "We have integrated the datasets received from both the APIs. During that process, we have resolved conflicts in feature values – values that are equivalent but had different representations. We have resolved the conflicts by modifying such feature values to have same representation in both the datasets. "
   ]
  },
  {
   "cell_type": "code",
   "execution_count": 6,
   "metadata": {},
   "outputs": [],
   "source": [
    "#This maps the conflicted values and the values they should be replaced with for the 'resolution' column\n",
    "resolution_conflicts = {\n",
    "    \"Cite or Arrest Adult\":\"ARREST, BOOKED\",\n",
    "    \"Cite or Arrest Juvenile\":\"JUVENILE BOOKED\",\n",
    "    \"Exceptional Adult\":\"EXCEPTIONAL CLEARANCE\",\n",
    "    \"Exceptional Juvenile\":\"EXCEPTIONAL CLEARANCE\",\n",
    "    \"Open or Active\":\"NONE\",\n",
    "    \"Unfounded\":\"NONE\"\n",
    "    }\n",
    "#This maps the conflicted values and the values they should be replaced with for the 'category' column\n",
    "category_conflicts = {\n",
    "    \"Drug Offense\":\"DRUG/NARCOTIC\",\n",
    "    \"Family Offense\":\"FAMILY OFFENSES\",\n",
    "    \"Forgery And Counterfeiting\":\"FORGERY/COUNTERFEITING\",\n",
    "    \"Larceny Theft\":\"LARCENY/THEFT\",\n",
    "    \"Sex Offense\":\"SEX OFFENSES, FORCIBLE\",\n",
    "    \"Motor Vehicle Theft\":\"VEHICLE THEFT\",\n",
    "    \"Warrant\":\"WARRANTS\",\n",
    "    \"Weapons Carrying Etc\":\"WEAPON LAWS\",\n",
    "    \"Weapons Offense\":\"WEAPON LAWS\"\n",
    "}"
   ]
  },
  {
   "cell_type": "code",
   "execution_count": 12,
   "metadata": {},
   "outputs": [],
   "source": [
    "#Iterating through the maps and updating the values in data from second API(2019 incident call information) to resolve value conflicts with data from first API(2018 incident call information)\n",
    "for conflict, resolution in resolution_conflicts.items():\n",
    "    incidents_19_df[\"resolution\"] = incidents_19_df[\"resolution\"].replace(conflict, resolution)\n",
    "    incidents_19_df.to_csv('incidents_18_resolution_resolv.csv')\n",
    "    \n",
    "for conflict, category in category_conflicts.items():\n",
    "    incidents_19_df[\"incident_category\"] = incidents_19_df[\"incident_category\"].replace(conflict, category)\n",
    "    incidents_19_df[\"incident_category\"] = incidents_19_df[\"incident_category\"].str.upper()"
   ]
  },
  {
   "cell_type": "code",
   "execution_count": 13,
   "metadata": {},
   "outputs": [],
   "source": [
    "#The feature key for Incident date is different in both the data sets\n",
    "#The dates has been converted from string to datetime format\n",
    "incidents_18_df[\"date\"] = pd.to_datetime(incidents_18_df[\"date\"])\n",
    "incidents_19_df[\"incident_date\"] = pd.to_datetime(incidents_19_df[\"incident_date\"])"
   ]
  },
  {
   "cell_type": "code",
   "execution_count": 15,
   "metadata": {},
   "outputs": [],
   "source": [
    "#Now that the conflicts have been resolved and necessary formatting has been done, we have integrated both\n",
    "#datasets by concatenating and storing them in a single dataframe\n",
    "integrated_df = pd.concat([incidents_18_df,incidents_18_df.rename(columns={'incident_category':'category','incident_day_of_week':'dayofweek','incident_date':'date'})], ignore_index=True)\n",
    "integrated_df.to_csv('df_merge.csv')"
   ]
  },
  {
   "cell_type": "code",
   "execution_count": 16,
   "metadata": {},
   "outputs": [
    {
     "name": "stdout",
     "output_type": "stream",
     "text": [
      "         category dayofweek      resolution       date\n",
      "0   VEHICLE THEFT   Tuesday            NONE 2018-05-15\n",
      "1    NON-CRIMINAL   Tuesday            NONE 2018-05-15\n",
      "2  OTHER OFFENSES   Tuesday  ARREST, BOOKED 2018-05-15\n",
      "3  OTHER OFFENSES   Tuesday  ARREST, BOOKED 2018-05-15\n",
      "4  OTHER OFFENSES   Tuesday  ARREST, BOOKED 2018-05-15\n",
      "5  OTHER OFFENSES   Tuesday            NONE 2018-05-15\n",
      "6   DRUG/NARCOTIC   Tuesday  ARREST, BOOKED 2018-05-15\n",
      "7         ROBBERY   Tuesday  ARREST, BOOKED 2018-05-15\n",
      "8        WARRANTS   Tuesday  ARREST, BOOKED 2018-05-15\n",
      "9     LIQUOR LAWS   Tuesday  ARREST, BOOKED 2018-05-15\n"
     ]
    }
   ],
   "source": [
    "#Printing 10 records from the integrated dataframe\n",
    "print(integrated_df[:10])"
   ]
  },
  {
   "cell_type": "code",
   "execution_count": 17,
   "metadata": {},
   "outputs": [
    {
     "data": {
      "text/plain": [
       "category      0\n",
       "dayofweek     0\n",
       "resolution    0\n",
       "date          0\n",
       "dtype: int64"
      ]
     },
     "execution_count": 17,
     "metadata": {},
     "output_type": "execute_result"
    }
   ],
   "source": [
    "#As part of Data cleaning, checking if there are any missing values. There were none. \n",
    "integrated_df.isnull().sum()"
   ]
  },
  {
   "cell_type": "markdown",
   "metadata": {},
   "source": [
    "Plotting the top 10 crimes from the integrated dataset which contains the Incident calls from 2018 and 2019"
   ]
  },
  {
   "cell_type": "code",
   "execution_count": 18,
   "metadata": {},
   "outputs": [
    {
     "data": {
      "text/plain": [
       "<matplotlib.axes._subplots.AxesSubplot at 0x894d278>"
      ]
     },
     "execution_count": 18,
     "metadata": {},
     "output_type": "execute_result"
    },
    {
     "data": {
      "image/png": "[encoded data removed]",
      "text/plain": [
       "<Figure size 1008x720 with 1 Axes>"
      ]
     },
     "metadata": {
      "needs_background": "light"
     },
     "output_type": "display_data"
    }
   ],
   "source": [
    "#yearly = integrated_df.groupby([pd.Grouper(key='date',freq='Y'),'category'])\n",
    "yearly = integrated_df.groupby('category')\n",
    "(yearly.size()).sort_values(ascending=False).head(10).plot(kind='bar',figsize=(14,10))"
   ]
  },
  {
   "cell_type": "markdown",
   "metadata": {},
   "source": [
    "Plotting the summary of Incident resolutions from the Integrated dataset"
   ]
  },
  {
   "cell_type": "code",
   "execution_count": 19,
   "metadata": {},
   "outputs": [
    {
     "name": "stdout",
     "output_type": "stream",
     "text": [
      "resolution\n",
      "ARREST, BOOKED            806\n",
      "EXCEPTIONAL CLEARANCE       2\n",
      "JUVENILE BOOKED             6\n",
      "NONE                     1186\n",
      "dtype: int64\n"
     ]
    },
    {
     "data": {
      "text/plain": [
       "<matplotlib.axes._subplots.AxesSubplot at 0x8e3f3c8>"
      ]
     },
     "execution_count": 19,
     "metadata": {},
     "output_type": "execute_result"
    },
    {
     "data": {
      "image/png": "[encoded data removed]",
      "text/plain": [
       "<Figure size 1008x720 with 1 Axes>"
      ]
     },
     "metadata": {
      "needs_background": "light"
     },
     "output_type": "display_data"
    }
   ],
   "source": [
    "resolution = integrated_df.groupby('resolution')\n",
    "#printing the count of each Incident resolutions\n",
    "print(resolution.size())\n",
    "resolution.size().plot(kind='bar',figsize=(14,10))"
   ]
  },
  {
   "cell_type": "markdown",
   "metadata": {},
   "source": [
    "Tentative Conclusion:\n",
    "    Analysing the datasets, we found that the most reported crime in the last two years in the state of San Francisco is Larceny/Theft followed by Assault. It has also been observed that majority of the reported incidents have not been resolved yet. "
   ]
  },
  {
   "cell_type": "code",
   "execution_count": null,
   "metadata": {},
   "outputs": [],
   "source": []
  }
 ],
 "metadata": {
  "kernelspec": {
   "display_name": "Python 3",
   "language": "python",
   "name": "python3"
  },
  "language_info": {
   "codemirror_mode": {
    "name": "ipython",
    "version": 3
   },
   "file_extension": ".py",
   "mimetype": "text/x-python",
   "name": "python",
   "nbconvert_exporter": "python",
   "pygments_lexer": "ipython3",
   "version": "3.7.1"
  }
 },
 "nbformat": 4,
 "nbformat_minor": 2
}
